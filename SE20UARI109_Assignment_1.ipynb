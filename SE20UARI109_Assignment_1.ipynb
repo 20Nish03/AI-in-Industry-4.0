{
  "nbformat": 4,
  "nbformat_minor": 0,
  "metadata": {
    "colab": {
      "provenance": [],
      "authorship_tag": "ABX9TyPdDDXL4E+npXAGfFkx4Yp4",
      "include_colab_link": true
    },
    "kernelspec": {
      "name": "python3",
      "display_name": "Python 3"
    },
    "language_info": {
      "name": "python"
    }
  },
  "cells": [
    {
      "cell_type": "markdown",
      "metadata": {
        "id": "view-in-github",
        "colab_type": "text"
      },
      "source": [
        "<a href=\"https://colab.research.google.com/github/20Nish03/AI-in-Industry-4.0/blob/main/SE20UARI109_Assignment_1.ipynb\" target=\"_parent\"><img src=\"https://colab.research.google.com/assets/colab-badge.svg\" alt=\"Open In Colab\"/></a>"
      ]
    },
    {
      "cell_type": "markdown",
      "source": [],
      "metadata": {
        "id": "XxmEqFovcBvs"
      }
    },
    {
      "cell_type": "code",
      "source": [
        "import socket\n",
        "\n",
        "def main():\n",
        "    try:\n",
        "        # Creating a client socket.\n",
        "        clientSocket = socket.socket(socket.AF_INET, socket.SOCK_STREAM)\n",
        "\n",
        "        # Connecting to the server.\n",
        "        serverAddress = (\"127.0.0.1\", 9090)\n",
        "        clientSocket.connect(serverAddress)\n",
        "\n",
        "        # Sending data to server.\n",
        "        message = \"Hello guys, this is Nishanth!\"\n",
        "        clientSocket.send(message.encode())\n",
        "\n",
        "        # Receiveing data from server.\n",
        "        dataFromServer = clientSocket.recv(1024)\n",
        "\n",
        "        # Print data received from server to the console.\n",
        "        print(\"Received from server:\", dataFromServer.decode())\n",
        "    except ConnectionRefusedError:\n",
        "        print(\"Connection failed!\")\n",
        "    except Exception as e:\n",
        "        print(\"An error has occurred:\", e)\n",
        "    finally:\n",
        "        # Closing the socket.\n",
        "        clientSocket.close()\n",
        "\n",
        "if __name__ == \"__main__\":\n",
        "    main()\n"
      ],
      "metadata": {
        "colab": {
          "base_uri": "https://localhost:8080/"
        },
        "id": "W5AxtTDNcCIT",
        "outputId": "c8ddc900-d7e7-4a18-eafe-b513844fd432"
      },
      "execution_count": 6,
      "outputs": [
        {
          "output_type": "stream",
          "name": "stdout",
          "text": [
            "Connection failed!\n"
          ]
        }
      ]
    }
  ]
}