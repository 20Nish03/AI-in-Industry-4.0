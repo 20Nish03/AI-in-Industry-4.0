{
  "nbformat": 4,
  "nbformat_minor": 0,
  "metadata": {
    "colab": {
      "provenance": [],
      "authorship_tag": "ABX9TyP0JHb+G3flyxtbUQeHGpz2",
      "include_colab_link": true
    },
    "kernelspec": {
      "name": "python3",
      "display_name": "Python 3"
    },
    "language_info": {
      "name": "python"
    }
  },
  "cells": [
    {
      "cell_type": "markdown",
      "metadata": {
        "id": "view-in-github",
        "colab_type": "text"
      },
      "source": [
        "<a href=\"https://colab.research.google.com/github/20Nish03/AI-in-Industry-4.0/blob/main/SE20UARI109_Assignment_1.ipynb\" target=\"_parent\"><img src=\"https://colab.research.google.com/assets/colab-badge.svg\" alt=\"Open In Colab\"/></a>"
      ]
    },
    {
      "cell_type": "code",
      "execution_count": null,
      "metadata": {
        "colab": {
          "base_uri": "https://localhost:8080/"
        },
        "id": "fKBwLiaKhWOA",
        "outputId": "b7a5492c-f930-4d39-f5b5-1776446aa75d"
      },
      "outputs": [
        {
          "output_type": "stream",
          "name": "stdout",
          "text": [
            "Server listening on 127.0.0.1:12345\n"
          ]
        }
      ],
      "source": [
        "import socket\n",
        "\n",
        "def main():\n",
        "    host = '127.0.0.1'  # Localhost\n",
        "    port = 12345        # Port\n",
        "\n",
        "    server_socket = socket.socket(socket.AF_INET, socket.SOCK_STREAM)\n",
        "    server_socket.bind((host, port))\n",
        "    server_socket.listen(1)\n",
        "\n",
        "    print(f\"Server listening on {host}:{port}\")\n",
        "\n",
        "    conn, addr = server_socket.accept()\n",
        "    print(f\"Connected by {addr}\")\n",
        "\n",
        "    while True:\n",
        "        data = conn.recv(1024).decode('utf-8')\n",
        "        if not data:\n",
        "            break\n",
        "        print(f\"Received from client: {data}\")\n",
        "        response = input(\"Enter a response to send to the client: \")\n",
        "        conn.send(response.encode('utf-8'))\n",
        "\n",
        "    conn.close()\n",
        "\n",
        "if __name__ == '__main__':\n",
        "    main()\n",
        "\n",
        "\n",
        "def main():\n",
        "    host = '127.0.0.1'  # Server's IP address\n",
        "    port = 12345        # Port the server is listening on\n",
        "\n",
        "    client_socket = socket.socket(socket.AF_INET, socket.SOCK_STREAM)\n",
        "    client_socket.connect((host, port))\n",
        "\n",
        "    while True:\n",
        "        message = input(\"Enter a message to send to the server: \")\n",
        "        client_socket.send(message.encode('utf-8'))\n",
        "\n",
        "        response = client_socket.recv(1024).decode('utf-8')\n",
        "        print(f\"Server response: {response}\")\n",
        "\n",
        "        if message.lower() == \"exit\":\n",
        "            break\n",
        "\n",
        "    client_socket.close()\n",
        "\n",
        "if __name__ == '__main__':\n",
        "    main()\n"
      ]
    }
  ]
}